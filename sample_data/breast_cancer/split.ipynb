{
 "cells": [
  {
   "cell_type": "code",
   "execution_count": 18,
   "metadata": {
    "collapsed": true
   },
   "outputs": [],
   "source": [
    "from sklearn.datasets import load_breast_cancer\n",
    "from sklearn.model_selection import train_test_split\n",
    "import pandas as pd"
   ]
  },
  {
   "cell_type": "code",
   "execution_count": 19,
   "outputs": [
    {
     "data": {
      "text/plain": "     mean radius  mean texture  mean perimeter  mean area  mean smoothness  \\\n149       13.740         17.91           88.12      585.0          0.07944   \n124       13.370         16.39           86.10      553.5          0.07115   \n421       14.690         13.98           98.22      656.1          0.10310   \n195       12.910         16.33           82.53      516.4          0.07941   \n545       13.620         23.23           87.19      573.2          0.09246   \n..           ...           ...             ...        ...              ...   \n71         8.888         14.64           58.79      244.0          0.09783   \n106       11.640         18.33           75.17      412.5          0.11420   \n270       14.290         16.82           90.30      632.6          0.06429   \n435       13.980         19.62           91.12      599.5          0.10600   \n102       12.180         20.52           77.22      458.7          0.08013   \n\n     mean compactness  mean concavity  mean concave points  mean symmetry  \\\n149           0.06376         0.02881              0.01329         0.1473   \n124           0.07325         0.08092              0.02800         0.1422   \n421           0.18360         0.14500              0.06300         0.2086   \n195           0.05366         0.03873              0.02377         0.1829   \n545           0.06747         0.02974              0.02443         0.1664   \n..                ...             ...                  ...            ...   \n71            0.15310         0.08606              0.02872         0.1902   \n106           0.10170         0.07070              0.03485         0.1801   \n270           0.02675         0.00725              0.00625         0.1508   \n435           0.11330         0.11260              0.06463         0.1669   \n102           0.04038         0.02383              0.01770         0.1739   \n\n     mean fractal dimension  ...  worst radius  worst texture  \\\n149                 0.05580  ...        15.340          22.46   \n124                 0.05823  ...        14.260          22.75   \n421                 0.07406  ...        16.460          18.34   \n195                 0.05667  ...        13.880          22.00   \n545                 0.05801  ...        15.350          29.09   \n..                      ...  ...           ...            ...   \n71                  0.08980  ...         9.733          15.67   \n106                 0.06520  ...        13.140          29.26   \n270                 0.05376  ...        14.910          20.65   \n435                 0.06544  ...        17.040          30.80   \n102                 0.05677  ...        13.340          32.84   \n\n     worst perimeter  worst area  worst smoothness  worst compactness  \\\n149            97.19       725.9           0.09711            0.18240   \n124            91.99       632.1           0.10250            0.25310   \n421           114.10       809.2           0.13120            0.36350   \n195            90.81       600.6           0.10970            0.15060   \n545            97.58       729.8           0.12160            0.15170   \n..               ...         ...               ...                ...   \n71             62.56       284.4           0.12070            0.24360   \n106            85.51       521.7           0.16880            0.26600   \n270            94.44       684.6           0.08567            0.05036   \n435           113.90       869.3           0.16130            0.35680   \n102            84.58       547.8           0.11230            0.08862   \n\n     worst concavity  worst concave points  worst symmetry  \\\n149          0.15640               0.06019          0.2350   \n124          0.33080               0.08978          0.2048   \n421          0.32190               0.11080          0.2827   \n195          0.17640               0.08235          0.3024   \n545          0.10490               0.07174          0.2642   \n..               ...                   ...             ...   \n71           0.14340               0.04786          0.2254   \n106          0.28730               0.12180          0.2806   \n270          0.03866               0.03333          0.2458   \n435          0.40690               0.18270          0.3179   \n102          0.11450               0.07431          0.2694   \n\n     worst fractal dimension  \n149                  0.07014  \n124                  0.07628  \n421                  0.09208  \n195                  0.06949  \n545                  0.06953  \n..                       ...  \n71                   0.10840  \n106                  0.09097  \n270                  0.06120  \n435                  0.10550  \n102                  0.06878  \n\n[398 rows x 30 columns]",
      "text/html": "<div>\n<style scoped>\n    .dataframe tbody tr th:only-of-type {\n        vertical-align: middle;\n    }\n\n    .dataframe tbody tr th {\n        vertical-align: top;\n    }\n\n    .dataframe thead th {\n        text-align: right;\n    }\n</style>\n<table border=\"1\" class=\"dataframe\">\n  <thead>\n    <tr style=\"text-align: right;\">\n      <th></th>\n      <th>mean radius</th>\n      <th>mean texture</th>\n      <th>mean perimeter</th>\n      <th>mean area</th>\n      <th>mean smoothness</th>\n      <th>mean compactness</th>\n      <th>mean concavity</th>\n      <th>mean concave points</th>\n      <th>mean symmetry</th>\n      <th>mean fractal dimension</th>\n      <th>...</th>\n      <th>worst radius</th>\n      <th>worst texture</th>\n      <th>worst perimeter</th>\n      <th>worst area</th>\n      <th>worst smoothness</th>\n      <th>worst compactness</th>\n      <th>worst concavity</th>\n      <th>worst concave points</th>\n      <th>worst symmetry</th>\n      <th>worst fractal dimension</th>\n    </tr>\n  </thead>\n  <tbody>\n    <tr>\n      <th>149</th>\n      <td>13.740</td>\n      <td>17.91</td>\n      <td>88.12</td>\n      <td>585.0</td>\n      <td>0.07944</td>\n      <td>0.06376</td>\n      <td>0.02881</td>\n      <td>0.01329</td>\n      <td>0.1473</td>\n      <td>0.05580</td>\n      <td>...</td>\n      <td>15.340</td>\n      <td>22.46</td>\n      <td>97.19</td>\n      <td>725.9</td>\n      <td>0.09711</td>\n      <td>0.18240</td>\n      <td>0.15640</td>\n      <td>0.06019</td>\n      <td>0.2350</td>\n      <td>0.07014</td>\n    </tr>\n    <tr>\n      <th>124</th>\n      <td>13.370</td>\n      <td>16.39</td>\n      <td>86.10</td>\n      <td>553.5</td>\n      <td>0.07115</td>\n      <td>0.07325</td>\n      <td>0.08092</td>\n      <td>0.02800</td>\n      <td>0.1422</td>\n      <td>0.05823</td>\n      <td>...</td>\n      <td>14.260</td>\n      <td>22.75</td>\n      <td>91.99</td>\n      <td>632.1</td>\n      <td>0.10250</td>\n      <td>0.25310</td>\n      <td>0.33080</td>\n      <td>0.08978</td>\n      <td>0.2048</td>\n      <td>0.07628</td>\n    </tr>\n    <tr>\n      <th>421</th>\n      <td>14.690</td>\n      <td>13.98</td>\n      <td>98.22</td>\n      <td>656.1</td>\n      <td>0.10310</td>\n      <td>0.18360</td>\n      <td>0.14500</td>\n      <td>0.06300</td>\n      <td>0.2086</td>\n      <td>0.07406</td>\n      <td>...</td>\n      <td>16.460</td>\n      <td>18.34</td>\n      <td>114.10</td>\n      <td>809.2</td>\n      <td>0.13120</td>\n      <td>0.36350</td>\n      <td>0.32190</td>\n      <td>0.11080</td>\n      <td>0.2827</td>\n      <td>0.09208</td>\n    </tr>\n    <tr>\n      <th>195</th>\n      <td>12.910</td>\n      <td>16.33</td>\n      <td>82.53</td>\n      <td>516.4</td>\n      <td>0.07941</td>\n      <td>0.05366</td>\n      <td>0.03873</td>\n      <td>0.02377</td>\n      <td>0.1829</td>\n      <td>0.05667</td>\n      <td>...</td>\n      <td>13.880</td>\n      <td>22.00</td>\n      <td>90.81</td>\n      <td>600.6</td>\n      <td>0.10970</td>\n      <td>0.15060</td>\n      <td>0.17640</td>\n      <td>0.08235</td>\n      <td>0.3024</td>\n      <td>0.06949</td>\n    </tr>\n    <tr>\n      <th>545</th>\n      <td>13.620</td>\n      <td>23.23</td>\n      <td>87.19</td>\n      <td>573.2</td>\n      <td>0.09246</td>\n      <td>0.06747</td>\n      <td>0.02974</td>\n      <td>0.02443</td>\n      <td>0.1664</td>\n      <td>0.05801</td>\n      <td>...</td>\n      <td>15.350</td>\n      <td>29.09</td>\n      <td>97.58</td>\n      <td>729.8</td>\n      <td>0.12160</td>\n      <td>0.15170</td>\n      <td>0.10490</td>\n      <td>0.07174</td>\n      <td>0.2642</td>\n      <td>0.06953</td>\n    </tr>\n    <tr>\n      <th>...</th>\n      <td>...</td>\n      <td>...</td>\n      <td>...</td>\n      <td>...</td>\n      <td>...</td>\n      <td>...</td>\n      <td>...</td>\n      <td>...</td>\n      <td>...</td>\n      <td>...</td>\n      <td>...</td>\n      <td>...</td>\n      <td>...</td>\n      <td>...</td>\n      <td>...</td>\n      <td>...</td>\n      <td>...</td>\n      <td>...</td>\n      <td>...</td>\n      <td>...</td>\n      <td>...</td>\n    </tr>\n    <tr>\n      <th>71</th>\n      <td>8.888</td>\n      <td>14.64</td>\n      <td>58.79</td>\n      <td>244.0</td>\n      <td>0.09783</td>\n      <td>0.15310</td>\n      <td>0.08606</td>\n      <td>0.02872</td>\n      <td>0.1902</td>\n      <td>0.08980</td>\n      <td>...</td>\n      <td>9.733</td>\n      <td>15.67</td>\n      <td>62.56</td>\n      <td>284.4</td>\n      <td>0.12070</td>\n      <td>0.24360</td>\n      <td>0.14340</td>\n      <td>0.04786</td>\n      <td>0.2254</td>\n      <td>0.10840</td>\n    </tr>\n    <tr>\n      <th>106</th>\n      <td>11.640</td>\n      <td>18.33</td>\n      <td>75.17</td>\n      <td>412.5</td>\n      <td>0.11420</td>\n      <td>0.10170</td>\n      <td>0.07070</td>\n      <td>0.03485</td>\n      <td>0.1801</td>\n      <td>0.06520</td>\n      <td>...</td>\n      <td>13.140</td>\n      <td>29.26</td>\n      <td>85.51</td>\n      <td>521.7</td>\n      <td>0.16880</td>\n      <td>0.26600</td>\n      <td>0.28730</td>\n      <td>0.12180</td>\n      <td>0.2806</td>\n      <td>0.09097</td>\n    </tr>\n    <tr>\n      <th>270</th>\n      <td>14.290</td>\n      <td>16.82</td>\n      <td>90.30</td>\n      <td>632.6</td>\n      <td>0.06429</td>\n      <td>0.02675</td>\n      <td>0.00725</td>\n      <td>0.00625</td>\n      <td>0.1508</td>\n      <td>0.05376</td>\n      <td>...</td>\n      <td>14.910</td>\n      <td>20.65</td>\n      <td>94.44</td>\n      <td>684.6</td>\n      <td>0.08567</td>\n      <td>0.05036</td>\n      <td>0.03866</td>\n      <td>0.03333</td>\n      <td>0.2458</td>\n      <td>0.06120</td>\n    </tr>\n    <tr>\n      <th>435</th>\n      <td>13.980</td>\n      <td>19.62</td>\n      <td>91.12</td>\n      <td>599.5</td>\n      <td>0.10600</td>\n      <td>0.11330</td>\n      <td>0.11260</td>\n      <td>0.06463</td>\n      <td>0.1669</td>\n      <td>0.06544</td>\n      <td>...</td>\n      <td>17.040</td>\n      <td>30.80</td>\n      <td>113.90</td>\n      <td>869.3</td>\n      <td>0.16130</td>\n      <td>0.35680</td>\n      <td>0.40690</td>\n      <td>0.18270</td>\n      <td>0.3179</td>\n      <td>0.10550</td>\n    </tr>\n    <tr>\n      <th>102</th>\n      <td>12.180</td>\n      <td>20.52</td>\n      <td>77.22</td>\n      <td>458.7</td>\n      <td>0.08013</td>\n      <td>0.04038</td>\n      <td>0.02383</td>\n      <td>0.01770</td>\n      <td>0.1739</td>\n      <td>0.05677</td>\n      <td>...</td>\n      <td>13.340</td>\n      <td>32.84</td>\n      <td>84.58</td>\n      <td>547.8</td>\n      <td>0.11230</td>\n      <td>0.08862</td>\n      <td>0.11450</td>\n      <td>0.07431</td>\n      <td>0.2694</td>\n      <td>0.06878</td>\n    </tr>\n  </tbody>\n</table>\n<p>398 rows × 30 columns</p>\n</div>"
     },
     "execution_count": 19,
     "metadata": {},
     "output_type": "execute_result"
    }
   ],
   "source": [
    "iris = load_breast_cancer(as_frame=True)\n",
    "X = iris['data']\n",
    "y = iris['target']\n",
    "X_train, X_test, y_train, y_test = train_test_split(X, y, test_size=0.3, random_state=42)\n",
    "X_train"
   ],
   "metadata": {
    "collapsed": false
   }
  },
  {
   "cell_type": "code",
   "execution_count": 20,
   "outputs": [],
   "source": [
    "train = pd.concat([X_train, y_train], axis=1)\n",
    "trains = [train.iloc[:130, :], train.iloc[130:260, :], train.iloc[260:, :]]"
   ],
   "metadata": {
    "collapsed": false
   }
  },
  {
   "cell_type": "code",
   "execution_count": 21,
   "outputs": [],
   "source": [
    "test = pd.concat([X_test, y_test], axis=1)\n",
    "tests = [test.iloc[:55, :], test.iloc[55:110, :], test.iloc[110:, :]]"
   ],
   "metadata": {
    "collapsed": false
   }
  },
  {
   "cell_type": "code",
   "execution_count": 22,
   "outputs": [],
   "source": [
    "for i in range(3):\n",
    "    trains[i].to_csv(f'3_clients/client{i+1}/train.csv', index=False)\n",
    "    tests[i].to_csv(f'3_clients/client{i+1}/test.csv', index=False)"
   ],
   "metadata": {
    "collapsed": false
   }
  },
  {
   "cell_type": "code",
   "execution_count": null,
   "outputs": [],
   "source": [],
   "metadata": {
    "collapsed": false
   }
  }
 ],
 "metadata": {
  "kernelspec": {
   "display_name": "Python 3",
   "language": "python",
   "name": "python3"
  },
  "language_info": {
   "codemirror_mode": {
    "name": "ipython",
    "version": 2
   },
   "file_extension": ".py",
   "mimetype": "text/x-python",
   "name": "python",
   "nbconvert_exporter": "python",
   "pygments_lexer": "ipython2",
   "version": "2.7.6"
  }
 },
 "nbformat": 4,
 "nbformat_minor": 0
}
